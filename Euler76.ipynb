{
 "cells": [
  {
   "cell_type": "code",
   "execution_count": 1,
   "metadata": {
    "collapsed": false
   },
   "outputs": [],
   "source": [
    "using Memoize\n",
    "coins = 1:99\n",
    "\n",
    "@memoize function count(n, m)\n",
    "    if n < 0 || m <= 0\n",
    "        return 0\n",
    "    elseif n == 0\n",
    "        return 1\n",
    "    end\n",
    " \n",
    "    return count( n, m - 1 ) + count( n - coins[m], m )\n",
    "end\n",
    "\n",
    "count(100, length(coins))"
   ]
  }
 ],
 "metadata": {
  "kernelspec": {
   "display_name": "Julia 0.4.2",
   "language": "julia",
   "name": "julia-0.4"
  },
  "language_info": {
   "file_extension": ".jl",
   "mimetype": "application/julia",
   "name": "julia",
   "version": "0.4.2"
  }
 },
 "nbformat": 4,
 "nbformat_minor": 0
}
