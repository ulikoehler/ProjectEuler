{
 "cells": [
  {
   "cell_type": "code",
   "execution_count": null,
   "metadata": {
    "collapsed": true
   },
   "outputs": [],
   "source": [
    "import requests\n",
    "import math"
   ]
  },
  {
   "cell_type": "code",
   "execution_count": null,
   "metadata": {
    "collapsed": false
   },
   "outputs": [],
   "source": [
    "lines = requests.get(\"https://projecteuler.net/project/resources/p099_base_exp.txt\").text.strip().split(\"\\n\")"
   ]
  },
  {
   "cell_type": "code",
   "execution_count": null,
   "metadata": {
    "collapsed": false
   },
   "outputs": [],
   "source": [
    "def parseNumbers(lines):\n",
    "    for line in lines:\n",
    "        split = line.split(\",\")\n",
    "        yield int(split[0]), int(split[1])\n",
    "        \n",
    "numberPairs = list(parseNumbers(lines))\n",
    "\n",
    "def keyBaseExp(tp):\n",
    "    b1, e1 = tp\n",
    "    return e1 * math.log(b1)\n",
    "\n",
    "largestElement = sorted(numberPairs, key=keyBaseExp)[-1]\n",
    "\n",
    "for i in range(0, len(numberPairs)):\n",
    "    if numberPairs[i] == largestElement:\n",
    "        print(i + 1)\n",
    "        break"
   ]
  },
  {
   "cell_type": "code",
   "execution_count": null,
   "metadata": {
    "collapsed": false
   },
   "outputs": [],
   "source": [
    "print(largestElement)"
   ]
  }
 ],
 "metadata": {
  "kernelspec": {
   "display_name": "Python 3",
   "language": "python",
   "name": "python3"
  },
  "language_info": {
   "codemirror_mode": {
    "name": "ipython",
    "version": 3
   },
   "file_extension": ".py",
   "mimetype": "text/x-python",
   "name": "python",
   "nbconvert_exporter": "python",
   "pygments_lexer": "ipython3",
   "version": "3.4.3+"
  }
 },
 "nbformat": 4,
 "nbformat_minor": 0
}
