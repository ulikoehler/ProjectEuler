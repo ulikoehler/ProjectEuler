{
 "cells": [
  {
   "cell_type": "code",
   "execution_count": null,
   "metadata": {
    "collapsed": true
   },
   "outputs": [],
   "source": [
    "import numpy as np\n",
    "def parseMatStr(s, n):\n",
    "    mat = np.empty((n, n))\n",
    "    for i, line in enumerate(s.strip().split(\"\\n\")):\n",
    "        mat[i,:] = np.asarray(list(map(int, line.split())))\n",
    "    return mat"
   ]
  },
  {
   "cell_type": "code",
   "execution_count": null,
   "metadata": {
    "collapsed": false
   },
   "outputs": [],
   "source": [
    "matStr = \"\"\"\n",
    "  7  53 183 439 863\n",
    "497 383 563  79 973\n",
    "287  63 343 169 583\n",
    "627 343 773 959 943\n",
    "767 473 103 699 303\n",
    "\"\"\"\n",
    "mat = parseMatStr(matStr, 5)"
   ]
  },
  {
   "cell_type": "code",
   "execution_count": null,
   "metadata": {
    "collapsed": false
   },
   "outputs": [],
   "source": [
    "\n",
    "\n",
    "def _computeScoreMatrix(m,):\n",
    "    scores = np.empty_like(m)\n",
    "    norm = m.shape[0]# * m.shape[1]\n",
    "    for x in range(m.shape[0]):\n",
    "        for y in range(m.shape[1]):\n",
    "            if np.isinf(m[x, y]):\n",
    "                scores[x, y] = -np.inf\n",
    "                continue\n",
    "            # Compute total sum of 'blocked' values\n",
    "            scores[x, y] = (-(np.sum(m[:,y]) + np.sum(m[x,:]) - 2*m[x, y]) / 1) + m[x, y]\n",
    "            #print(mat2[x,y], mat[x,y])\n",
    "    return scores\n",
    "\n",
    "def computeScoreMatrix(mat):\n",
    "    # Compute, for each cell, the score of that cell (high = good)\n",
    "    scores = _computeScoreMatrix(mat)\n",
    "    # Compute the score matrix_computeScoreMatrix\n",
    "    #return _computeScoreMatrix(scores)\n",
    "    return scores\n",
    "\n",
    "def doStuff(mat):\n",
    "    m = mat.copy()\n",
    "    # Find maximum score\n",
    "    m2 = computeScoreMatrix(m).copy()\n",
    "    for i in range(5):\n",
    "        idxs = np.unravel_index(np.argmax(m2), m2.shape)\n",
    "        print(idxs[0], idxs[1], mat[idxs[0], idxs[1]])\n",
    "        #m2[idxs[0], idxs[1]] = -np.inf\n",
    "        # Erase section in matrix\n",
    "        m2[:,idxs[1]] = -np.inf\n",
    "        m2[idxs[0],:] = -np.inf\n",
    "\n",
    "doStuff(mat)"
   ]
  },
  {
   "cell_type": "code",
   "execution_count": null,
   "metadata": {
    "collapsed": false
   },
   "outputs": [],
   "source": [
    "np.unravel_index(np.argmax(m2), m2.shape)"
   ]
  },
  {
   "cell_type": "code",
   "execution_count": null,
   "metadata": {
    "collapsed": false
   },
   "outputs": [],
   "source": [
    "mat[4, 0]"
   ]
  },
  {
   "cell_type": "code",
   "execution_count": null,
   "metadata": {
    "collapsed": true
   },
   "outputs": [],
   "source": []
  }
 ],
 "metadata": {
  "kernelspec": {
   "display_name": "Python 3",
   "language": "python",
   "name": "python3"
  },
  "language_info": {
   "codemirror_mode": {
    "name": "ipython",
    "version": 3
   },
   "file_extension": ".py",
   "mimetype": "text/x-python",
   "name": "python",
   "nbconvert_exporter": "python",
   "pygments_lexer": "ipython3",
   "version": "3.4.3+"
  }
 },
 "nbformat": 4,
 "nbformat_minor": 0
}
