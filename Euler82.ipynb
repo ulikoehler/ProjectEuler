{
 "cells": [
  {
   "cell_type": "code",
   "execution_count": null,
   "metadata": {
    "collapsed": true
   },
   "outputs": [],
   "source": [
    "import numpy as np"
   ]
  },
  {
   "cell_type": "code",
   "execution_count": null,
   "metadata": {
    "collapsed": false
   },
   "outputs": [],
   "source": [
    "matStr = \"\"\"\n",
    "131,673,234,103,18\n",
    "201,96,342,965,150\n",
    "630,803,746,422,111\n",
    "537,699,497,121,956\n",
    "805,732,524,37,331\"\"\"\n",
    "\n",
    "def parseMat(s, dim):\n",
    "    # Parse but leave space for easier calculation\n",
    "    mat = np.empty((dim, dim), dtype=np.int)\n",
    "    for i, line in enumerate(s.strip().splitlines()):\n",
    "        mat[:,i] = np.asarray(list(map(int, line.split(\",\"))))\n",
    "    return mat\n",
    "\n",
    "mat = parseMat(matStr, 5)"
   ]
  },
  {
   "cell_type": "code",
   "execution_count": null,
   "metadata": {
    "collapsed": false
   },
   "outputs": [],
   "source": [
    "dim = 5\n",
    "UP = 1; DOWN = 2; RIGHT = 4\n",
    "flagmat = np.zeros_like(mat) # OR of UP/DOWN/RIGHT\n",
    "for x in range(dim):\n",
    "    for y in range(dim):\n",
    "        u = mat[x, y - 1] if y > 0 else 1e6\n",
    "        d = mat[x, y + 1] if y < dim - 1 else 1e6\n",
    "        r = mat[x + 1, y] if x < dim - 1 else 1e6\n",
    "        m = min(u,d,r)\n",
    "        if u == m: flagmat[x,y] |= UP\n",
    "        if d == m: flagmat[x,y] |= DOWN\n",
    "        if r == m: flagmat[x,y] |= RIGHT"
   ]
  },
  {
   "cell_type": "code",
   "execution_count": null,
   "metadata": {
    "collapsed": false
   },
   "outputs": [],
   "source": [
    "flagmat.T"
   ]
  },
  {
   "cell_type": "code",
   "execution_count": null,
   "metadata": {
    "collapsed": false
   },
   "outputs": [],
   "source": [
    "mat.T"
   ]
  }
 ],
 "metadata": {
  "kernelspec": {
   "display_name": "Python 3",
   "language": "python",
   "name": "python3"
  },
  "language_info": {
   "codemirror_mode": {
    "name": "ipython",
    "version": 3
   },
   "file_extension": ".py",
   "mimetype": "text/x-python",
   "name": "python",
   "nbconvert_exporter": "python",
   "pygments_lexer": "ipython3",
   "version": "3.4.3+"
  }
 },
 "nbformat": 4,
 "nbformat_minor": 0
}
