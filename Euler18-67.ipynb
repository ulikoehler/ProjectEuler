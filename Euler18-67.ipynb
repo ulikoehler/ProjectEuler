{
 "cells": [
  {
   "cell_type": "code",
   "execution_count": null,
   "metadata": {
    "collapsed": false
   },
   "outputs": [],
   "source": [
    "import numpy as np\n",
    "import math\n",
    "import itertools\n",
    "from memoized import memoized # pip3 install hg+https://bitbucket.org/gsakkis/memoized"
   ]
  },
  {
   "cell_type": "code",
   "execution_count": null,
   "metadata": {
    "collapsed": false
   },
   "outputs": [],
   "source": [
    "def parseTriStr(triStr, n):\n",
    "    mat = np.empty((n, n))\n",
    "    i = 0\n",
    "    for line in triStr.strip().split(\"\\n\"):\n",
    "        #print(np.asarray(list(map(int, line.split()))))\n",
    "        row = np.asarray(list(map(int, line.split())))\n",
    "        row.resize(n)\n",
    "        row[i+1:] = -1e2\n",
    "        mat[i,:] = row\n",
    "        i += 1\n",
    "    return mat\n",
    "\n",
    "@memoized\n",
    "def maxPathSum(x, y):\n",
    "    if x > y:\n",
    "        raise ValueError(\"x > y\")\n",
    "    if y == 0:\n",
    "        return mat[y, x]\n",
    "    elif x == 0: # Leftmost row, Can only move up\n",
    "        return mat[y, x] + maxPathSum(x, y - 1)\n",
    "    elif x == y: # Rightmost row, can only move up+left\n",
    "        return mat[y, x] + maxPathSum(x - 1, y - 1)\n",
    "    else:\n",
    "        return max(mat[y, x] + maxPathSum(x, y - 1),\n",
    "                   mat[y, x] + maxPathSum(x - 1, y - 1))\n",
    "\n",
    "def totalMaxPathSum():\n",
    "    assert mat.shape[0] == mat.shape[1]\n",
    "    return max(maxPathSum(i, mat.shape[0] - 1) for i in range(mat.shape[0]))\n"
   ]
  },
  {
   "cell_type": "code",
   "execution_count": null,
   "metadata": {
    "collapsed": false
   },
   "outputs": [],
   "source": [
    "triStr = \"\"\"\n",
    "3\n",
    "7 4\n",
    "2 4 6\n",
    "8 5 9 3\n",
    "\"\"\"\n",
    "mat = parseTriStr(triStr, 4)\n",
    "totalMaxPathSum()"
   ]
  },
  {
   "cell_type": "code",
   "execution_count": null,
   "metadata": {
    "collapsed": false
   },
   "outputs": [],
   "source": [
    "triStr = \"\"\"\n",
    "75\n",
    "95 64\n",
    "17 47 82\n",
    "18 35 87 10\n",
    "20 04 82 47 65\n",
    "19 01 23 75 03 34\n",
    "88 02 77 73 07 63 67\n",
    "99 65 04 28 06 16 70 92\n",
    "41 41 26 56 83 40 80 70 33\n",
    "41 48 72 33 47 32 37 16 94 29\n",
    "53 71 44 65 25 43 91 52 97 51 14\n",
    "70 11 33 28 77 73 17 78 39 68 17 57\n",
    "91 71 52 38 17 14 91 43 58 50 27 29 48\n",
    "63 66 04 68 89 53 67 30 73 16 69 87 40 31\n",
    "04 62 98 27 23 09 70 98 73 93 38 53 60 04 23\n",
    "\"\"\"\n",
    "mat = parseTriStr(triStr, 15)\n",
    "totalMaxPathSum()"
   ]
  },
  {
   "cell_type": "code",
   "execution_count": null,
   "metadata": {
    "collapsed": true
   },
   "outputs": [],
   "source": [
    "# Problem 67\n",
    "import requests\n",
    "mat = parseTriStr(requests.get(\"https://projecteuler.net/project/resources/p067_triangle.txt\").text, 100)"
   ]
  },
  {
   "cell_type": "code",
   "execution_count": null,
   "metadata": {
    "collapsed": false
   },
   "outputs": [],
   "source": [
    "# Problem 67 solution\n",
    "totalMaxPathSum()"
   ]
  }
 ],
 "metadata": {
  "kernelspec": {
   "display_name": "Python 3",
   "language": "python",
   "name": "python3"
  },
  "language_info": {
   "codemirror_mode": {
    "name": "ipython",
    "version": 3
   },
   "file_extension": ".py",
   "mimetype": "text/x-python",
   "name": "python",
   "nbconvert_exporter": "python",
   "pygments_lexer": "ipython3",
   "version": "3.4.3+"
  }
 },
 "nbformat": 4,
 "nbformat_minor": 0
}
