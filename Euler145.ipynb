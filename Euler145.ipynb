{
 "cells": [
  {
   "cell_type": "code",
   "execution_count": 11,
   "metadata": {
    "collapsed": false
   },
   "outputs": [
    {
     "data": {
      "text/plain": [
       "dos (generic function with 1 method)"
      ]
     },
     "execution_count": 11,
     "metadata": {},
     "output_type": "execute_result"
    }
   ],
   "source": [
    "\n",
    "function isallodd(n)\n",
    "    str = dec(n)\n",
    "    for i=1:length(str)\n",
    "        if iseven(Int(str[i]))\n",
    "            return false\n",
    "        end\n",
    "    end\n",
    "    return true\n",
    "end\n",
    "\n",
    "function s(n, nset)\n",
    "    str = dec(n)\n",
    "    if str[end] == \"0\" # Reverse with LZ not allowed\n",
    "        return 0\n",
    "    end\n",
    "    n2 = n + parse(Int, reverse(str))\n",
    "    push!(nset, n)\n",
    "    push!(nset, n2)\n",
    "    return isallodd(n2)\n",
    "end\n",
    "\n",
    "function dos(n)\n",
    "    cnt = 0\n",
    "    nset = Set()\n",
    "    for i=10:n\n",
    "        if in(i, nset)\n",
    "            continue # Ignore\n",
    "        end\n",
    "        if s(i, nset)\n",
    "            cnt += 1\n",
    "        end\n",
    "    end\n",
    "    return cnt\n",
    "end"
   ]
  },
  {
   "cell_type": "code",
   "execution_count": 12,
   "metadata": {
    "collapsed": false
   },
   "outputs": [
    {
     "data": {
      "text/plain": [
       "113"
      ]
     },
     "execution_count": 12,
     "metadata": {},
     "output_type": "execute_result"
    }
   ],
   "source": [
    "dos(999)"
   ]
  },
  {
   "cell_type": "code",
   "execution_count": 13,
   "metadata": {
    "collapsed": false
   },
   "outputs": [
    {
     "ename": "LoadError",
     "evalue": "LoadError: UndefVarError: nset not defined\nwhile loading In[13], in expression starting on line 1",
     "output_type": "error",
     "traceback": [
      "LoadError: UndefVarError: nset not defined\nwhile loading In[13], in expression starting on line 1",
      ""
     ]
    }
   ],
   "source": [
    "in(36, nset)"
   ]
  },
  {
   "cell_type": "code",
   "execution_count": null,
   "metadata": {
    "collapsed": true
   },
   "outputs": [],
   "source": []
  }
 ],
 "metadata": {
  "kernelspec": {
   "display_name": "Julia 0.4.2",
   "language": "julia",
   "name": "julia-0.4"
  },
  "language_info": {
   "file_extension": ".jl",
   "mimetype": "application/julia",
   "name": "julia",
   "version": "0.4.2"
  }
 },
 "nbformat": 4,
 "nbformat_minor": 0
}
